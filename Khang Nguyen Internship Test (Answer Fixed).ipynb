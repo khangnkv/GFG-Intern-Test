{
 "cells": [
  {
   "cell_type": "code",
   "execution_count": 4,
   "metadata": {},
   "outputs": [],
   "source": [
    "import numpy as np\n",
    "import pandas as pd\n",
    "import seaborn as sns\n",
    "from matplotlib import pyplot as plt\n",
    "df = pd.read_csv(\"data.csv\")"
   ]
  },
  {
   "cell_type": "code",
   "execution_count": 2,
   "metadata": {},
   "outputs": [],
   "source": [
    "df.insert(1, \"order_count\", 1, allow_duplicates=True)"
   ]
  },
  {
   "cell_type": "code",
   "execution_count": 3,
   "metadata": {},
   "outputs": [
    {
     "data": {
      "text/html": [
       "<div>\n",
       "<style scoped>\n",
       "    .dataframe tbody tr th:only-of-type {\n",
       "        vertical-align: middle;\n",
       "    }\n",
       "\n",
       "    .dataframe tbody tr th {\n",
       "        vertical-align: top;\n",
       "    }\n",
       "\n",
       "    .dataframe thead th {\n",
       "        text-align: right;\n",
       "    }\n",
       "</style>\n",
       "<table border=\"1\" class=\"dataframe\">\n",
       "  <thead>\n",
       "    <tr style=\"text-align: right;\">\n",
       "      <th></th>\n",
       "      <th>order_id</th>\n",
       "      <th>order_count</th>\n",
       "      <th>product</th>\n",
       "      <th>quantity</th>\n",
       "      <th>price</th>\n",
       "      <th>total</th>\n",
       "      <th>full_date</th>\n",
       "      <th>hour</th>\n",
       "      <th>date</th>\n",
       "      <th>month</th>\n",
       "      <th>year</th>\n",
       "      <th>day</th>\n",
       "      <th>address</th>\n",
       "      <th>city</th>\n",
       "      <th>state</th>\n",
       "      <th>pincode</th>\n",
       "      <th>timezone</th>\n",
       "    </tr>\n",
       "  </thead>\n",
       "  <tbody>\n",
       "    <tr>\n",
       "      <th>0</th>\n",
       "      <td>236670</td>\n",
       "      <td>1</td>\n",
       "      <td>Wired Headphones</td>\n",
       "      <td>2</td>\n",
       "      <td>11.99</td>\n",
       "      <td>23.98</td>\n",
       "      <td>08/31/19</td>\n",
       "      <td>22</td>\n",
       "      <td>31</td>\n",
       "      <td>8</td>\n",
       "      <td>2019</td>\n",
       "      <td>Sat</td>\n",
       "      <td>359 Spruce St</td>\n",
       "      <td>Seattle</td>\n",
       "      <td>WA</td>\n",
       "      <td>98101</td>\n",
       "      <td>PM</td>\n",
       "    </tr>\n",
       "    <tr>\n",
       "      <th>1</th>\n",
       "      <td>236671</td>\n",
       "      <td>1</td>\n",
       "      <td>Bose SoundSport Headphones</td>\n",
       "      <td>1</td>\n",
       "      <td>99.99</td>\n",
       "      <td>99.99</td>\n",
       "      <td>08/15/19</td>\n",
       "      <td>15</td>\n",
       "      <td>15</td>\n",
       "      <td>8</td>\n",
       "      <td>2019</td>\n",
       "      <td>Thu</td>\n",
       "      <td>492 Ridge St</td>\n",
       "      <td>Dallas</td>\n",
       "      <td>TX</td>\n",
       "      <td>75001</td>\n",
       "      <td>PM</td>\n",
       "    </tr>\n",
       "    <tr>\n",
       "      <th>2</th>\n",
       "      <td>236672</td>\n",
       "      <td>1</td>\n",
       "      <td>iPhone</td>\n",
       "      <td>1</td>\n",
       "      <td>700.00</td>\n",
       "      <td>700.00</td>\n",
       "      <td>08/06/19</td>\n",
       "      <td>14</td>\n",
       "      <td>6</td>\n",
       "      <td>8</td>\n",
       "      <td>2019</td>\n",
       "      <td>Tue</td>\n",
       "      <td>149 7th St</td>\n",
       "      <td>Portland</td>\n",
       "      <td>OR</td>\n",
       "      <td>97035</td>\n",
       "      <td>PM</td>\n",
       "    </tr>\n",
       "    <tr>\n",
       "      <th>3</th>\n",
       "      <td>236673</td>\n",
       "      <td>1</td>\n",
       "      <td>AA Batteries (4-pack)</td>\n",
       "      <td>2</td>\n",
       "      <td>3.84</td>\n",
       "      <td>7.68</td>\n",
       "      <td>08/29/19</td>\n",
       "      <td>20</td>\n",
       "      <td>29</td>\n",
       "      <td>8</td>\n",
       "      <td>2019</td>\n",
       "      <td>Thu</td>\n",
       "      <td>631 2nd St</td>\n",
       "      <td>Los Angeles</td>\n",
       "      <td>CA</td>\n",
       "      <td>90001</td>\n",
       "      <td>PM</td>\n",
       "    </tr>\n",
       "    <tr>\n",
       "      <th>4</th>\n",
       "      <td>236674</td>\n",
       "      <td>1</td>\n",
       "      <td>AA Batteries (4-pack)</td>\n",
       "      <td>2</td>\n",
       "      <td>3.84</td>\n",
       "      <td>7.68</td>\n",
       "      <td>08/15/19</td>\n",
       "      <td>19</td>\n",
       "      <td>15</td>\n",
       "      <td>8</td>\n",
       "      <td>2019</td>\n",
       "      <td>Thu</td>\n",
       "      <td>736 14th St</td>\n",
       "      <td>New York City</td>\n",
       "      <td>NY</td>\n",
       "      <td>10001</td>\n",
       "      <td>PM</td>\n",
       "    </tr>\n",
       "    <tr>\n",
       "      <th>...</th>\n",
       "      <td>...</td>\n",
       "      <td>...</td>\n",
       "      <td>...</td>\n",
       "      <td>...</td>\n",
       "      <td>...</td>\n",
       "      <td>...</td>\n",
       "      <td>...</td>\n",
       "      <td>...</td>\n",
       "      <td>...</td>\n",
       "      <td>...</td>\n",
       "      <td>...</td>\n",
       "      <td>...</td>\n",
       "      <td>...</td>\n",
       "      <td>...</td>\n",
       "      <td>...</td>\n",
       "      <td>...</td>\n",
       "      <td>...</td>\n",
       "    </tr>\n",
       "    <tr>\n",
       "      <th>95</th>\n",
       "      <td>236762</td>\n",
       "      <td>1</td>\n",
       "      <td>AAA Batteries (4-pack)</td>\n",
       "      <td>1</td>\n",
       "      <td>2.99</td>\n",
       "      <td>2.99</td>\n",
       "      <td>08/16/19</td>\n",
       "      <td>14</td>\n",
       "      <td>16</td>\n",
       "      <td>8</td>\n",
       "      <td>2019</td>\n",
       "      <td>Fri</td>\n",
       "      <td>632 Cherry St</td>\n",
       "      <td>San Francisco</td>\n",
       "      <td>CA</td>\n",
       "      <td>94016</td>\n",
       "      <td>PM</td>\n",
       "    </tr>\n",
       "    <tr>\n",
       "      <th>96</th>\n",
       "      <td>236763</td>\n",
       "      <td>1</td>\n",
       "      <td>Apple Airpods Headphones</td>\n",
       "      <td>1</td>\n",
       "      <td>150.00</td>\n",
       "      <td>150.00</td>\n",
       "      <td>08/06/19</td>\n",
       "      <td>10</td>\n",
       "      <td>6</td>\n",
       "      <td>8</td>\n",
       "      <td>2019</td>\n",
       "      <td>Tue</td>\n",
       "      <td>288 Lake St</td>\n",
       "      <td>Seattle</td>\n",
       "      <td>WA</td>\n",
       "      <td>98101</td>\n",
       "      <td>AM</td>\n",
       "    </tr>\n",
       "    <tr>\n",
       "      <th>97</th>\n",
       "      <td>236764</td>\n",
       "      <td>1</td>\n",
       "      <td>Bose SoundSport Headphones</td>\n",
       "      <td>1</td>\n",
       "      <td>99.99</td>\n",
       "      <td>99.99</td>\n",
       "      <td>08/22/19</td>\n",
       "      <td>15</td>\n",
       "      <td>22</td>\n",
       "      <td>8</td>\n",
       "      <td>2019</td>\n",
       "      <td>Thu</td>\n",
       "      <td>663 Elm St</td>\n",
       "      <td>Boston</td>\n",
       "      <td>MA</td>\n",
       "      <td>2215</td>\n",
       "      <td>PM</td>\n",
       "    </tr>\n",
       "    <tr>\n",
       "      <th>98</th>\n",
       "      <td>236765</td>\n",
       "      <td>1</td>\n",
       "      <td>Wired Headphones</td>\n",
       "      <td>1</td>\n",
       "      <td>11.99</td>\n",
       "      <td>11.99</td>\n",
       "      <td>08/24/19</td>\n",
       "      <td>10</td>\n",
       "      <td>24</td>\n",
       "      <td>8</td>\n",
       "      <td>2019</td>\n",
       "      <td>Sat</td>\n",
       "      <td>731 10th St</td>\n",
       "      <td>San Francisco</td>\n",
       "      <td>CA</td>\n",
       "      <td>94016</td>\n",
       "      <td>AM</td>\n",
       "    </tr>\n",
       "    <tr>\n",
       "      <th>99</th>\n",
       "      <td>236766</td>\n",
       "      <td>1</td>\n",
       "      <td>Wired Headphones</td>\n",
       "      <td>1</td>\n",
       "      <td>11.99</td>\n",
       "      <td>11.99</td>\n",
       "      <td>08/19/19</td>\n",
       "      <td>17</td>\n",
       "      <td>19</td>\n",
       "      <td>8</td>\n",
       "      <td>2019</td>\n",
       "      <td>Mon</td>\n",
       "      <td>287 Highland St</td>\n",
       "      <td>Seattle</td>\n",
       "      <td>WA</td>\n",
       "      <td>98101</td>\n",
       "      <td>PM</td>\n",
       "    </tr>\n",
       "  </tbody>\n",
       "</table>\n",
       "<p>100 rows × 17 columns</p>\n",
       "</div>"
      ],
      "text/plain": [
       "    order_id  order_count                     product  quantity   price  \\\n",
       "0     236670            1            Wired Headphones         2   11.99   \n",
       "1     236671            1  Bose SoundSport Headphones         1   99.99   \n",
       "2     236672            1                      iPhone         1  700.00   \n",
       "3     236673            1       AA Batteries (4-pack)         2    3.84   \n",
       "4     236674            1       AA Batteries (4-pack)         2    3.84   \n",
       "..       ...          ...                         ...       ...     ...   \n",
       "95    236762            1      AAA Batteries (4-pack)         1    2.99   \n",
       "96    236763            1    Apple Airpods Headphones         1  150.00   \n",
       "97    236764            1  Bose SoundSport Headphones         1   99.99   \n",
       "98    236765            1            Wired Headphones         1   11.99   \n",
       "99    236766            1            Wired Headphones         1   11.99   \n",
       "\n",
       "     total full_date  hour  date  month  year  day          address  \\\n",
       "0    23.98  08/31/19    22    31      8  2019  Sat    359 Spruce St   \n",
       "1    99.99  08/15/19    15    15      8  2019  Thu     492 Ridge St   \n",
       "2   700.00  08/06/19    14     6      8  2019  Tue       149 7th St   \n",
       "3     7.68  08/29/19    20    29      8  2019  Thu       631 2nd St   \n",
       "4     7.68  08/15/19    19    15      8  2019  Thu      736 14th St   \n",
       "..     ...       ...   ...   ...    ...   ...  ...              ...   \n",
       "95    2.99  08/16/19    14    16      8  2019  Fri    632 Cherry St   \n",
       "96  150.00  08/06/19    10     6      8  2019  Tue      288 Lake St   \n",
       "97   99.99  08/22/19    15    22      8  2019  Thu       663 Elm St   \n",
       "98   11.99  08/24/19    10    24      8  2019  Sat      731 10th St   \n",
       "99   11.99  08/19/19    17    19      8  2019  Mon  287 Highland St   \n",
       "\n",
       "             city state  pincode timezone  \n",
       "0         Seattle    WA    98101       PM  \n",
       "1          Dallas    TX    75001       PM  \n",
       "2        Portland    OR    97035       PM  \n",
       "3     Los Angeles    CA    90001       PM  \n",
       "4   New York City    NY    10001       PM  \n",
       "..            ...   ...      ...      ...  \n",
       "95  San Francisco    CA    94016       PM  \n",
       "96        Seattle    WA    98101       AM  \n",
       "97         Boston    MA     2215       PM  \n",
       "98  San Francisco    CA    94016       AM  \n",
       "99        Seattle    WA    98101       PM  \n",
       "\n",
       "[100 rows x 17 columns]"
      ]
     },
     "execution_count": 3,
     "metadata": {},
     "output_type": "execute_result"
    }
   ],
   "source": [
    "df.head(100)\n"
   ]
  },
  {
   "cell_type": "markdown",
   "metadata": {},
   "source": [
    "### Q1. What is the 4th highest product sold in terms of total revenue generated overall ?"
   ]
  },
  {
   "cell_type": "code",
   "execution_count": 4,
   "metadata": {},
   "outputs": [
    {
     "data": {
      "text/plain": [
       "product\n",
       "USB-C Charging Cable          21903\n",
       "Lightning Charging Cable      21658\n",
       "AAA Batteries (4-pack)        20641\n",
       "AA Batteries (4-pack)         20577\n",
       "Wired Headphones              18882\n",
       "Apple Airpods Headphones      15549\n",
       "Bose SoundSport Headphones    13325\n",
       "27in FHD Monitor               7507\n",
       "iPhone                         6842\n",
       "27in 4K Gaming Monitor         6230\n",
       "34in Ultrawide Monitor         6181\n",
       "Google Phone                   5525\n",
       "Flatscreen TV                  4800\n",
       "Macbook Pro Laptop             4724\n",
       "ThinkPad Laptop                4128\n",
       "20in Monitor                   4101\n",
       "Vareebadd Phone                2065\n",
       "LG Washing Machine              666\n",
       "LG Dryer                        646\n",
       "Name: total, dtype: int64"
      ]
     },
     "execution_count": 4,
     "metadata": {},
     "output_type": "execute_result"
    }
   ],
   "source": [
    "\n",
    "df.groupby('product').count()['total'].sort_values(ascending = False)\n",
    "#The 4th highest item selling is AA Batteries (4-pack) with 20577 sales in total"
   ]
  },
  {
   "cell_type": "markdown",
   "metadata": {},
   "source": [
    "### Q2. Which City sees the maximum number of orders being placed in the month of June 2019?"
   ]
  },
  {
   "cell_type": "code",
   "execution_count": 5,
   "metadata": {},
   "outputs": [
    {
     "name": "stderr",
     "output_type": "stream",
     "text": [
      "<ipython-input-5-6b35ab2ef7e3>:2: UserWarning: Boolean Series key will be reindexed to match DataFrame index.\n",
      "  df_time = df_time[df['year'] == 2019]\n"
     ]
    },
    {
     "data": {
      "text/plain": [
       "city\n",
       "San Francisco    3303\n",
       "Los Angeles      2203\n",
       "New York City    1775\n",
       "Boston           1390\n",
       "Atlanta          1107\n",
       "Dallas           1063\n",
       "Seattle          1056\n",
       "Portland          942\n",
       "Austin            715\n",
       "Name: quantity, dtype: int64"
      ]
     },
     "execution_count": 5,
     "metadata": {},
     "output_type": "execute_result"
    }
   ],
   "source": [
    "df_time = df[df['month'] == 6]\n",
    "df_time = df_time[df['year'] == 2019]\n",
    "df_time.groupby('city').count()['quantity'].sort_values(ascending = False)\n",
    "#the city with the most orders being placed is San Francisco in June 2019"
   ]
  },
  {
   "cell_type": "markdown",
   "metadata": {},
   "source": [
    "### Q3. What is the least popular product in terms of unique orders in the city of Los Angeles. ?"
   ]
  },
  {
   "cell_type": "code",
   "execution_count": 6,
   "metadata": {},
   "outputs": [
    {
     "data": {
      "text/plain": [
       "<matplotlib.axes._subplots.AxesSubplot at 0x26cf0519040>"
      ]
     },
     "execution_count": 6,
     "metadata": {},
     "output_type": "execute_result"
    },
    {
     "data": {
      "image/png": "[encoded data removed]",
      "text/plain": [
       "<Figure size 360x360 with 1 Axes>"
      ]
     },
     "metadata": {
      "needs_background": "light"
     },
     "output_type": "display_data"
    }
   ],
   "source": [
    "df_los = df[df['city'] == 'Los Angeles']\n",
    "df_los.groupby('product').count()['quantity'].sort_values(ascending = False).tail().plot.bar(figsize = (5,5))\n",
    "#Seems like LG Washing Machine has the least unique orders overall"
   ]
  },
  {
   "cell_type": "markdown",
   "metadata": {},
   "source": [
    "### Q4. Which state has the highest revenue generated from all the apple products in year 2019?  Hint { Apple products : Apple airpods, iphone, Macbook} \n"
   ]
  },
  {
   "cell_type": "code",
   "execution_count": 7,
   "metadata": {},
   "outputs": [
    {
     "data": {
      "text/plain": [
       "state\n",
       "CA    10815\n",
       "NY     3615\n",
       "TX     3597\n",
       "MA     2872\n",
       "GA     2184\n",
       "WA     2151\n",
       "OR     1504\n",
       "ME      370\n",
       "Name: total, dtype: int64"
      ]
     },
     "execution_count": 7,
     "metadata": {},
     "output_type": "execute_result"
    }
   ],
   "source": [
    "df_apple_2019 = df[(df['year'] ==2019) & ((df['product'] == \"iPhone\") |(df['product'] == \"iPhone\")|(df['product'] == \"Apple Airpods Headphones\")|(df['product'] == \"Macbook Pro Laptop\"))]\n",
    "\n",
    "df_apple_2019.groupby('state').count()['total'].sort_values(ascending = False)"
   ]
  },
  {
   "cell_type": "markdown",
   "metadata": {},
   "source": [
    "### Q5. What is the difference of revenue generated between weekend and weekday in the state of CA ? Hint { Weekday : Mon – Thu, Weekend : Fri – Sun}"
   ]
  },
  {
   "cell_type": "code",
   "execution_count": 22,
   "metadata": {},
   "outputs": [
    {
     "name": "stdout",
     "output_type": "stream",
     "text": [
      "5799084.76\n",
      "7915689.949999999\n",
      "-2116605.1899999995\n"
     ]
    }
   ],
   "source": [
    "df_CA = df[df['state'] == 'CA']\n",
    "df_CA_weekend = df_CA[(df_CA['day'] == 'Fri')|(df_CA['day'] == 'Sat')|(df_CA['day'] == 'Sun')]\n",
    "df_CA_weekday = df_CA[(df_CA['day'] == 'Mon')|(df_CA['day'] == 'Tue')|(df_CA['day'] == 'Wed')|(df_CA['day'] == 'Thu')]\n",
    "df_CA_weekend_sum = df_CA_weekend['total'].sum()\n",
    "df_CA_weekday_sum = df_CA_weekday['total'].sum()\n",
    "difference = df_CA_weekend_sum - df_CA_weekday_sum\n",
    "print(df_CA_weekend_sum)\n",
    "print(df_CA_weekday_sum)\n",
    "print(difference)\n",
    "#there's $-2,116,605 revenue difference between weekend and weekday"
   ]
  },
  {
   "cell_type": "markdown",
   "metadata": {},
   "source": [
    "### Q6. Which city has seen the overall least orders in night hours in the months of May, June and July 2019. Hint { Night Hours : 18 – 24 } \n"
   ]
  },
  {
   "cell_type": "code",
   "execution_count": 40,
   "metadata": {},
   "outputs": [
    {
     "data": {
      "text/plain": [
       "<matplotlib.axes._subplots.AxesSubplot at 0x26cf0c1f190>"
      ]
     },
     "execution_count": 40,
     "metadata": {},
     "output_type": "execute_result"
    },
    {
     "data": {
      "image/png": "[encoded data removed]",
      "text/plain": [
       "<Figure size 360x360 with 1 Axes>"
      ]
     },
     "metadata": {
      "needs_background": "light"
     },
     "output_type": "display_data"
    }
   ],
   "source": [
    "#1. Filter out all information from May-July in 2019 and then filter from 18-24 hours range\n",
    "df_2019 = df[df['year'] == 2019]\n",
    "df_may_to_july = df_2019[((df_2019['month']>= 5) & (df_2019['month'] <= 7))]\n",
    "df_may_to_july_night = df_may_to_july[(df_may_to_july['hour'] >= 18) & (df_may_to_july['hour']<= 24)]\n",
    "\n",
    "#2. Use count number of ID and group based on city to filter the rest of the info out\n",
    "df_may_to_july_night.groupby('city').count()['order_id'].sort_values(ascending = False).plot.bar(figsize = (5,5))\n",
    "\n",
    "#Conclusion: San Francisco has most orders compare to others"
   ]
  },
  {
   "cell_type": "markdown",
   "metadata": {},
   "source": [
    "### Q7. Is “Google Phone” better performing in respect to overall number of orders placed as well as  revenue generated than “iphone” in “New York City” ?"
   ]
  },
  {
   "cell_type": "code",
   "execution_count": 70,
   "metadata": {},
   "outputs": [
    {
     "data": {
      "text/plain": [
       "product\n",
       "iPhone          6842\n",
       "Google Phone    5525\n",
       "Name: order_id, dtype: int64"
      ]
     },
     "execution_count": 70,
     "metadata": {},
     "output_type": "execute_result"
    }
   ],
   "source": [
    "# analysis\n",
    "#1. Main question: Google vs iPhone in:\n",
    "#    + Order counts\n",
    "#    + Revenue aka total sum in\n",
    "# solution\n",
    "#1. Filter google and iphone specificially in the name\n",
    "df_phone = df[(df['product']=='iPhone')|(df['product']=='Google Phone')]\n",
    "\n",
    "#2. Make separate comparisons by groupby counts and order id\n",
    "df_phone.groupby('product').count()['order_id'].sort_values(ascending = False)\n",
    "#iPhone wins in number of orders "
   ]
  },
  {
   "cell_type": "code",
   "execution_count": 68,
   "metadata": {},
   "outputs": [
    {
     "name": "stdout",
     "output_type": "stream",
     "text": [
      "Google creates $ 3319200.0 while iPhone creates $ 4794300.0\n"
     ]
    }
   ],
   "source": [
    "df_google_sum = df_phone[(df_phone['product'] == 'Google Phone')]['total'].sum()\n",
    "\n",
    "#should be accurate since there're 5k rows and it's 600 usd per phone so estimation is correct for google phone\n",
    "df_iphone_sum = df_phone[(df_phone['product'] == 'iPhone')]['total'].sum()\n",
    "print(\"Google creates $\", df_google_sum, \"while iPhone creates $\", df_iphone_sum)\n",
    "#Iphone wins in revenue\n",
    "#IPhone is better in this case"
   ]
  },
  {
   "cell_type": "markdown",
   "metadata": {},
   "source": [
    "### Q8. What is the absolute difference in total number of unique orders being created in the cities of “Boston” and “Portland” for the month of Jan in both years 2019 & 2020 ?\n"
   ]
  },
  {
   "cell_type": "code",
   "execution_count": 77,
   "metadata": {},
   "outputs": [
    {
     "data": {
      "text/plain": [
       "426"
      ]
     },
     "execution_count": 77,
     "metadata": {},
     "output_type": "execute_result"
    }
   ],
   "source": [
    "#unique orders in 2 cities: Boston and Portland\n",
    "#time range: Jan 2019 and Jan 2020\n",
    "#Main question: find abs[Boston.order_id.count - Portland.order_id.count]\n",
    "\n",
    "#1. filter 2 cities with time range out\n",
    "df_boston = df[(df['city']== 'Boston')&(df['month']==1)]\n",
    "df_portland = df[(df['city']== 'Portland')&(df['month']==1)]\n",
    "abs(df_boston.count()['order_id']-df_portland.count()['order_id'])\n",
    "#There're 426 n.order differences between Boston and Portland"
   ]
  },
  {
   "cell_type": "markdown",
   "metadata": {},
   "source": [
    "### Q9. Plot pie chart for 4 categories based on their total revenue generated.  Weekend-Day , Weekend-Night, Weekday-Day, Weekday-Night.  Hint {Weekend/Weekday , Day/Night logic remains as earlier discussed}\n"
   ]
  },
  {
   "cell_type": "code",
   "execution_count": 115,
   "metadata": {},
   "outputs": [
    {
     "data": {
      "image/png": "[encoded data removed]",
      "text/plain": [
       "<Figure size 432x288 with 1 Axes>"
      ]
     },
     "metadata": {},
     "output_type": "display_data"
    }
   ],
   "source": [
    "#filter weekday and weekend\n",
    "df_weekday = df[(df['day']=='Mon')|(df['day']=='Tue')|(df['day']=='Wed')|(df['day']=='Thu')]\n",
    "df_weekend = df[(df['day']=='Fri')|(df['day']=='Sat')|(df['day']=='Sun')]\n",
    "\n",
    "#filter day and night revenue\n",
    "df_weekday_day = df_weekday[(df_weekday['timezone']==\"AM\")]['total'].sum()\n",
    "df_weekday_night = df_weekday[df_weekday['timezone']==\"PM\"]['total'].sum()\n",
    "\n",
    "df_weekend_day = df_weekend[df_weekend['timezone']== \"AM\"]['total'].sum()\n",
    "df_weekend_night = df_weekend[df_weekend['timezone']== \"PM\"]['total'].sum()\n",
    "\n",
    "#create empty list to add revenue in\n",
    "revenue = [df_weekday_day, df_weekday_night, df_weekend_day, df_weekend_night]\n",
    "#create pie chart\n",
    "categories = ['Weekday (Day)', 'Weekday (Night)', 'Weekend (Day)', 'Weekend (Night)']\n",
    "palette_color = sns.color_palette('bright')\n",
    "plt.pie(revenue, labels=categories, colors=palette_color, autopct='%.0f%%')\n",
    "# displaying chart\n",
    "plt.show()\n",
    "#Weekday Night gives most revenue compare to the rest"
   ]
  },
  {
   "cell_type": "markdown",
   "metadata": {},
   "source": [
    "# Q10. Plot violin plot between above respective 13 categories of unique year month combinations Month_Year ( 1_2019 , 2_2019 …. 1_2020) along side the number of orders being placed. Write down  the inferences according to the graph. (minimum 5)"
   ]
  },
  {
   "cell_type": "code",
   "execution_count": 28,
   "metadata": {},
   "outputs": [
    {
     "data": {
      "text/plain": [
       "Month_Year\n",
       "10_2019    20282\n",
       "11_2019    17573\n",
       "12_2019    24984\n",
       "1_2019      9675\n",
       "1_2020        34\n",
       "2_2019     11975\n",
       "3_2019     15153\n",
       "4_2019     18279\n",
       "5_2019     16566\n",
       "6_2019     13554\n",
       "7_2019     14293\n",
       "8_2019     11961\n",
       "9_2019     11621\n",
       "Name: order_id, dtype: int64"
      ]
     },
     "execution_count": 28,
     "metadata": {},
     "output_type": "execute_result"
    }
   ],
   "source": [
    "#Plot violin plot with x = month_year and y = number of orders\n",
    "#combine month and year and insert in dataframe first\n",
    "df['Month_Year']= df['month'].astype(str)+ \"_\" + df['year'].astype(str)\n",
    "\n",
    "#Create violin plot with number orders in mind\n",
    "df1  = df.groupby('Month_Year').count()['order_id'].sort_values(ascending = True)\n",
    "df1\n"
   ]
  },
  {
   "cell_type": "code",
   "execution_count": 26,
   "metadata": {},
   "outputs": [
    {
     "name": "stdout",
     "output_type": "stream",
     "text": [
      "Index(['1_2020', '1_2019', '9_2019', '8_2019', '2_2019', '6_2019', '7_2019',\n",
      "       '3_2019', '5_2019', '11_2019', '4_2019', '10_2019', '12_2019'],\n",
      "      dtype='object', name='Month_Year')\n",
      "[34, 9675, 11621, 11961, 11975, 13554, 14293, 15153, 16566, 17573, 18279, 20282]\n"
     ]
    },
    {
     "data": {
      "text/html": [
       "<div>\n",
       "<style scoped>\n",
       "    .dataframe tbody tr th:only-of-type {\n",
       "        vertical-align: middle;\n",
       "    }\n",
       "\n",
       "    .dataframe tbody tr th {\n",
       "        vertical-align: top;\n",
       "    }\n",
       "\n",
       "    .dataframe thead th {\n",
       "        text-align: right;\n",
       "    }\n",
       "</style>\n",
       "<table border=\"1\" class=\"dataframe\">\n",
       "  <thead>\n",
       "    <tr style=\"text-align: right;\">\n",
       "      <th></th>\n",
       "      <th>Month_Year</th>\n",
       "      <th>Order_Count</th>\n",
       "    </tr>\n",
       "  </thead>\n",
       "  <tbody>\n",
       "    <tr>\n",
       "      <th>0</th>\n",
       "      <td>12_2019</td>\n",
       "      <td>24984</td>\n",
       "    </tr>\n",
       "    <tr>\n",
       "      <th>1</th>\n",
       "      <td>10_2019</td>\n",
       "      <td>20282</td>\n",
       "    </tr>\n",
       "    <tr>\n",
       "      <th>2</th>\n",
       "      <td>4_2019</td>\n",
       "      <td>18279</td>\n",
       "    </tr>\n",
       "    <tr>\n",
       "      <th>3</th>\n",
       "      <td>11_2019</td>\n",
       "      <td>17573</td>\n",
       "    </tr>\n",
       "    <tr>\n",
       "      <th>4</th>\n",
       "      <td>5_2019</td>\n",
       "      <td>16566</td>\n",
       "    </tr>\n",
       "    <tr>\n",
       "      <th>5</th>\n",
       "      <td>3_2019</td>\n",
       "      <td>15153</td>\n",
       "    </tr>\n",
       "    <tr>\n",
       "      <th>6</th>\n",
       "      <td>7_2019</td>\n",
       "      <td>14293</td>\n",
       "    </tr>\n",
       "    <tr>\n",
       "      <th>7</th>\n",
       "      <td>6_2019</td>\n",
       "      <td>13554</td>\n",
       "    </tr>\n",
       "    <tr>\n",
       "      <th>8</th>\n",
       "      <td>2_2019</td>\n",
       "      <td>11975</td>\n",
       "    </tr>\n",
       "    <tr>\n",
       "      <th>9</th>\n",
       "      <td>8_2019</td>\n",
       "      <td>11961</td>\n",
       "    </tr>\n",
       "    <tr>\n",
       "      <th>10</th>\n",
       "      <td>9_2019</td>\n",
       "      <td>11621</td>\n",
       "    </tr>\n",
       "    <tr>\n",
       "      <th>11</th>\n",
       "      <td>1_2019</td>\n",
       "      <td>9675</td>\n",
       "    </tr>\n",
       "    <tr>\n",
       "      <th>12</th>\n",
       "      <td>1_2020</td>\n",
       "      <td>34</td>\n",
       "    </tr>\n",
       "  </tbody>\n",
       "</table>\n",
       "</div>"
      ],
      "text/plain": [
       "   Month_Year  Order_Count\n",
       "0     12_2019        24984\n",
       "1     10_2019        20282\n",
       "2      4_2019        18279\n",
       "3     11_2019        17573\n",
       "4      5_2019        16566\n",
       "5      3_2019        15153\n",
       "6      7_2019        14293\n",
       "7      6_2019        13554\n",
       "8      2_2019        11975\n",
       "9      8_2019        11961\n",
       "10     9_2019        11621\n",
       "11     1_2019         9675\n",
       "12     1_2020           34"
      ]
     },
     "execution_count": 26,
     "metadata": {},
     "output_type": "execute_result"
    }
   ],
   "source": [
    "\n",
    "#Create 2 separated keys and values indices\n",
    "keys = df1.keys()\n",
    "values = []\n",
    "\n",
    "print(keys)\n",
    "for i in range(0, len(df1)-1):\n",
    "    values.append(df1[i])\n",
    "print(values)\n",
    "#Group these 2 values in a new dataframe\n",
    "data = {'Month_Year': ['12_2019', '10_2019', '4_2019', '11_2019', '5_2019', '3_2019', '7_2019','6_2019', '2_2019', '8_2019', '9_2019', '1_2019', '1_2020'], 'Order_Count': [24984, 20282, 18279, 17573, 16566, 15153, 14293, 13554, 11975, 11961, 11621, 9675,34]}\n",
    "newdf = pd.DataFrame(data)\n",
    "newdf\n",
    "#Create a new dataframe out of these 2 only"
   ]
  },
  {
   "cell_type": "code",
   "execution_count": 27,
   "metadata": {},
   "outputs": [
    {
     "data": {
      "text/plain": [
       "<matplotlib.axes._subplots.AxesSubplot at 0x170afe420d0>"
      ]
     },
     "execution_count": 27,
     "metadata": {},
     "output_type": "execute_result"
    },
    {
     "data": {
      "image/png": "[encoded data removed]",
      "text/plain": [
       "<Figure size 432x288 with 1 Axes>"
      ]
     },
     "metadata": {
      "needs_background": "light"
     },
     "output_type": "display_data"
    }
   ],
   "source": [
    "sns.violinplot(x='Month_Year', y='Order_Count', data=newdf)"
   ]
  },
  {
   "cell_type": "code",
   "execution_count": 29,
   "metadata": {},
   "outputs": [],
   "source": [
    "\n",
    "#Obs 1: most orders are made near the end of the year\n",
    "#Obs 2: least orders are made in Jan_2020\n",
    "#Obs 3: Beginning of each year has least orders\n",
    "#Obs 4: There are 2 spikes which is near the mid-year and end-year\n",
    "#Obs 5: Possibily number of orders are high due to it's season break time (summer vacation and christmas vacation)"
   ]
  }
 ],
 "metadata": {
  "kernelspec": {
   "display_name": "Python 3",
   "language": "python",
   "name": "python3"
  },
  "language_info": {
   "codemirror_mode": {
    "name": "ipython",
    "version": 3
   },
   "file_extension": ".py",
   "mimetype": "text/x-python",
   "name": "python",
   "nbconvert_exporter": "python",
   "pygments_lexer": "ipython3",
   "version": "3.8.3"
  }
 },
 "nbformat": 4,
 "nbformat_minor": 4
}
