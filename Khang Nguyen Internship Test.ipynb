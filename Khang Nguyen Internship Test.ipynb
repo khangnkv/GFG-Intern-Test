{
 "cells": [
  {
   "cell_type": "code",
   "execution_count": 106,
   "metadata": {},
   "outputs": [],
   "source": [
    "import numpy as np\n",
    "import pandas as pd\n",
    "import seaborn as sns\n",
    "from matplotlib import pyplot as plt\n",
    "df = pd.read_csv(\"data.csv\")"
   ]
  },
  {
   "cell_type": "code",
   "execution_count": 151,
   "metadata": {},
   "outputs": [
    {
     "ename": "SyntaxError",
     "evalue": "unexpected EOF while parsing (<ipython-input-151-acb2067642c3>, line 1)",
     "output_type": "error",
     "traceback": [
      "\u001b[1;36m  File \u001b[1;32m\"<ipython-input-151-acb2067642c3>\"\u001b[1;36m, line \u001b[1;32m1\u001b[0m\n\u001b[1;33m    df.insert(10, \"month_year\", value = str(df['month']) + str(df['year'])\u001b[0m\n\u001b[1;37m                                                                          ^\u001b[0m\n\u001b[1;31mSyntaxError\u001b[0m\u001b[1;31m:\u001b[0m unexpected EOF while parsing\n"
     ]
    }
   ],
   "source": [
    "df.insert(10, \"month_year\", value = str(df['month']) + str(df['year'])"
   ]
  },
  {
   "cell_type": "code",
   "execution_count": 149,
   "metadata": {},
   "outputs": [
    {
     "data": {
      "text/html": [
       "<div>\n",
       "<style scoped>\n",
       "    .dataframe tbody tr th:only-of-type {\n",
       "        vertical-align: middle;\n",
       "    }\n",
       "\n",
       "    .dataframe tbody tr th {\n",
       "        vertical-align: top;\n",
       "    }\n",
       "\n",
       "    .dataframe thead th {\n",
       "        text-align: right;\n",
       "    }\n",
       "</style>\n",
       "<table border=\"1\" class=\"dataframe\">\n",
       "  <thead>\n",
       "    <tr style=\"text-align: right;\">\n",
       "      <th></th>\n",
       "      <th>order_id</th>\n",
       "      <th>order_count</th>\n",
       "      <th>product</th>\n",
       "      <th>quantity</th>\n",
       "      <th>price</th>\n",
       "      <th>total</th>\n",
       "      <th>full_date</th>\n",
       "      <th>hour</th>\n",
       "      <th>date</th>\n",
       "      <th>month</th>\n",
       "      <th>month_year</th>\n",
       "      <th>year</th>\n",
       "      <th>day</th>\n",
       "      <th>address</th>\n",
       "      <th>city</th>\n",
       "      <th>state</th>\n",
       "      <th>pincode</th>\n",
       "      <th>timezone</th>\n",
       "    </tr>\n",
       "  </thead>\n",
       "  <tbody>\n",
       "    <tr>\n",
       "      <th>0</th>\n",
       "      <td>236670</td>\n",
       "      <td>1</td>\n",
       "      <td>Wired Headphones</td>\n",
       "      <td>2</td>\n",
       "      <td>11.99</td>\n",
       "      <td>23.98</td>\n",
       "      <td>08/31/19</td>\n",
       "      <td>22</td>\n",
       "      <td>31</td>\n",
       "      <td>8</td>\n",
       "      <td>2027</td>\n",
       "      <td>2019</td>\n",
       "      <td>Sat</td>\n",
       "      <td>359 Spruce St</td>\n",
       "      <td>Seattle</td>\n",
       "      <td>WA</td>\n",
       "      <td>98101</td>\n",
       "      <td>PM</td>\n",
       "    </tr>\n",
       "    <tr>\n",
       "      <th>1</th>\n",
       "      <td>236671</td>\n",
       "      <td>1</td>\n",
       "      <td>Bose SoundSport Headphones</td>\n",
       "      <td>1</td>\n",
       "      <td>99.99</td>\n",
       "      <td>99.99</td>\n",
       "      <td>08/15/19</td>\n",
       "      <td>15</td>\n",
       "      <td>15</td>\n",
       "      <td>8</td>\n",
       "      <td>2027</td>\n",
       "      <td>2019</td>\n",
       "      <td>Thu</td>\n",
       "      <td>492 Ridge St</td>\n",
       "      <td>Dallas</td>\n",
       "      <td>TX</td>\n",
       "      <td>75001</td>\n",
       "      <td>PM</td>\n",
       "    </tr>\n",
       "    <tr>\n",
       "      <th>2</th>\n",
       "      <td>236672</td>\n",
       "      <td>1</td>\n",
       "      <td>iPhone</td>\n",
       "      <td>1</td>\n",
       "      <td>700.00</td>\n",
       "      <td>700.00</td>\n",
       "      <td>08/06/19</td>\n",
       "      <td>14</td>\n",
       "      <td>6</td>\n",
       "      <td>8</td>\n",
       "      <td>2027</td>\n",
       "      <td>2019</td>\n",
       "      <td>Tue</td>\n",
       "      <td>149 7th St</td>\n",
       "      <td>Portland</td>\n",
       "      <td>OR</td>\n",
       "      <td>97035</td>\n",
       "      <td>PM</td>\n",
       "    </tr>\n",
       "    <tr>\n",
       "      <th>3</th>\n",
       "      <td>236673</td>\n",
       "      <td>1</td>\n",
       "      <td>AA Batteries (4-pack)</td>\n",
       "      <td>2</td>\n",
       "      <td>3.84</td>\n",
       "      <td>7.68</td>\n",
       "      <td>08/29/19</td>\n",
       "      <td>20</td>\n",
       "      <td>29</td>\n",
       "      <td>8</td>\n",
       "      <td>2027</td>\n",
       "      <td>2019</td>\n",
       "      <td>Thu</td>\n",
       "      <td>631 2nd St</td>\n",
       "      <td>Los Angeles</td>\n",
       "      <td>CA</td>\n",
       "      <td>90001</td>\n",
       "      <td>PM</td>\n",
       "    </tr>\n",
       "    <tr>\n",
       "      <th>4</th>\n",
       "      <td>236674</td>\n",
       "      <td>1</td>\n",
       "      <td>AA Batteries (4-pack)</td>\n",
       "      <td>2</td>\n",
       "      <td>3.84</td>\n",
       "      <td>7.68</td>\n",
       "      <td>08/15/19</td>\n",
       "      <td>19</td>\n",
       "      <td>15</td>\n",
       "      <td>8</td>\n",
       "      <td>2027</td>\n",
       "      <td>2019</td>\n",
       "      <td>Thu</td>\n",
       "      <td>736 14th St</td>\n",
       "      <td>New York City</td>\n",
       "      <td>NY</td>\n",
       "      <td>10001</td>\n",
       "      <td>PM</td>\n",
       "    </tr>\n",
       "  </tbody>\n",
       "</table>\n",
       "</div>"
      ],
      "text/plain": [
       "   order_id  order_count                     product  quantity   price  \\\n",
       "0    236670            1            Wired Headphones         2   11.99   \n",
       "1    236671            1  Bose SoundSport Headphones         1   99.99   \n",
       "2    236672            1                      iPhone         1  700.00   \n",
       "3    236673            1       AA Batteries (4-pack)         2    3.84   \n",
       "4    236674            1       AA Batteries (4-pack)         2    3.84   \n",
       "\n",
       "    total full_date  hour  date  month  month_year  year  day        address  \\\n",
       "0   23.98  08/31/19    22    31      8        2027  2019  Sat  359 Spruce St   \n",
       "1   99.99  08/15/19    15    15      8        2027  2019  Thu   492 Ridge St   \n",
       "2  700.00  08/06/19    14     6      8        2027  2019  Tue     149 7th St   \n",
       "3    7.68  08/29/19    20    29      8        2027  2019  Thu     631 2nd St   \n",
       "4    7.68  08/15/19    19    15      8        2027  2019  Thu    736 14th St   \n",
       "\n",
       "            city state  pincode timezone  \n",
       "0        Seattle    WA    98101       PM  \n",
       "1         Dallas    TX    75001       PM  \n",
       "2       Portland    OR    97035       PM  \n",
       "3    Los Angeles    CA    90001       PM  \n",
       "4  New York City    NY    10001       PM  "
      ]
     },
     "execution_count": 149,
     "metadata": {},
     "output_type": "execute_result"
    }
   ],
   "source": [
    "df.head()"
   ]
  },
  {
   "cell_type": "markdown",
   "metadata": {},
   "source": [
    "### Q1. What is the 4th highest product sold in terms of total revenue generated overall ?"
   ]
  },
  {
   "cell_type": "code",
   "execution_count": 34,
   "metadata": {},
   "outputs": [
    {
     "data": {
      "text/plain": [
       "product\n",
       "USB-C Charging Cable          21903\n",
       "Lightning Charging Cable      21658\n",
       "AAA Batteries (4-pack)        20641\n",
       "AA Batteries (4-pack)         20577\n",
       "Wired Headphones              18882\n",
       "Apple Airpods Headphones      15549\n",
       "Bose SoundSport Headphones    13325\n",
       "27in FHD Monitor               7507\n",
       "iPhone                         6842\n",
       "27in 4K Gaming Monitor         6230\n",
       "34in Ultrawide Monitor         6181\n",
       "Google Phone                   5525\n",
       "Flatscreen TV                  4800\n",
       "Macbook Pro Laptop             4724\n",
       "ThinkPad Laptop                4128\n",
       "20in Monitor                   4101\n",
       "Vareebadd Phone                2065\n",
       "LG Washing Machine              666\n",
       "LG Dryer                        646\n",
       "Name: total, dtype: int64"
      ]
     },
     "execution_count": 34,
     "metadata": {},
     "output_type": "execute_result"
    }
   ],
   "source": [
    "\n",
    "df.groupby('product').count()['total'].sort_values(ascending = False)\n",
    "#The 4th highest item selling is AA Batteries (4-pack) with 20577 sales in total"
   ]
  },
  {
   "cell_type": "markdown",
   "metadata": {},
   "source": [
    "### Q2. Which City sees the maximum number of orders being placed in the month of June 2019?"
   ]
  },
  {
   "cell_type": "code",
   "execution_count": 13,
   "metadata": {},
   "outputs": [
    {
     "name": "stderr",
     "output_type": "stream",
     "text": [
      "<ipython-input-13-c9b3d6f0fb96>:2: UserWarning: Boolean Series key will be reindexed to match DataFrame index.\n",
      "  df_time = df_time[df['year'] == 2019]\n"
     ]
    },
    {
     "data": {
      "text/plain": [
       "city\n",
       "San Francisco    3303\n",
       "Los Angeles      2203\n",
       "New York City    1775\n",
       "Boston           1390\n",
       "Atlanta          1107\n",
       "Dallas           1063\n",
       "Seattle          1056\n",
       "Portland          942\n",
       "Austin            715\n",
       "Name: quantity, dtype: int64"
      ]
     },
     "execution_count": 13,
     "metadata": {},
     "output_type": "execute_result"
    }
   ],
   "source": [
    "df_time = df[df['month'] == 6]\n",
    "df_time = df_time[df['year'] == 2019]\n",
    "df_time.groupby('city').count()['quantity'].sort_values(ascending = False)\n",
    "#the city with the most orders being placed is San Francisco in June 2019"
   ]
  },
  {
   "cell_type": "markdown",
   "metadata": {},
   "source": [
    "### Q3. What is the least popular product in terms of unique orders in the city of Los Angeles. ?"
   ]
  },
  {
   "cell_type": "code",
   "execution_count": 45,
   "metadata": {},
   "outputs": [
    {
     "data": {
      "text/plain": [
       "<matplotlib.axes._subplots.AxesSubplot at 0x1aaa5337d90>"
      ]
     },
     "execution_count": 45,
     "metadata": {},
     "output_type": "execute_result"
    },
    {
     "data": {
      "image/png": "[encoded data removed]",
      "text/plain": [
       "<Figure size 360x360 with 1 Axes>"
      ]
     },
     "metadata": {
      "needs_background": "light"
     },
     "output_type": "display_data"
    }
   ],
   "source": [
    "df_los = df[df['city'] == 'Los Angeles']\n",
    "df_los.groupby('product').count()['quantity'].sort_values(ascending = False).tail().plot.bar(figsize = (5,5))\n",
    "#Seems like LG Washing Machine has the least unique orders overall"
   ]
  },
  {
   "cell_type": "markdown",
   "metadata": {},
   "source": [
    "### Q4. Which state has the highest revenue generated from all the apple products in year 2019?  Hint { Apple products : Apple airpods, iphone, Macbook} \n"
   ]
  },
  {
   "cell_type": "code",
   "execution_count": 41,
   "metadata": {},
   "outputs": [
    {
     "data": {
      "text/plain": [
       "state\n",
       "CA    6154\n",
       "NY    2079\n",
       "TX    2069\n",
       "MA    1642\n",
       "GA    1263\n",
       "WA    1250\n",
       "OR     860\n",
       "ME     228\n",
       "Name: quantity, dtype: int64"
      ]
     },
     "execution_count": 41,
     "metadata": {},
     "output_type": "execute_result"
    }
   ],
   "source": [
    "df_apple_2019 = df[df['year'] ==2019]\n",
    "df_airpods = df_apple_2019[df_apple_2019['product'] == 'Apple Airpods Headphones']\n",
    "df_macbook = df_apple_2019[df_apple_2019['product'] == 'Macbook Pro Laptop']\n",
    "df_iphone= df_apple_2019[df_apple_2019['product'] == 'iPhone']\n",
    "df_airpods.groupby('state').count()['quantity'].sort_values(ascending = False)\n"
   ]
  },
  {
   "cell_type": "code",
   "execution_count": 42,
   "metadata": {},
   "outputs": [
    {
     "data": {
      "text/plain": [
       "state\n",
       "CA    1885\n",
       "NY     656\n",
       "TX     632\n",
       "MA     478\n",
       "GA     379\n",
       "WA     356\n",
       "OR     274\n",
       "ME      63\n",
       "Name: quantity, dtype: int64"
      ]
     },
     "execution_count": 42,
     "metadata": {},
     "output_type": "execute_result"
    }
   ],
   "source": [
    "df_macbook.groupby('state').count()['quantity'].sort_values(ascending = False)"
   ]
  },
  {
   "cell_type": "code",
   "execution_count": 43,
   "metadata": {},
   "outputs": [
    {
     "data": {
      "text/plain": [
       "state\n",
       "CA    2776\n",
       "TX     896\n",
       "NY     880\n",
       "MA     752\n",
       "WA     545\n",
       "GA     542\n",
       "OR     370\n",
       "ME      79\n",
       "Name: quantity, dtype: int64"
      ]
     },
     "execution_count": 43,
     "metadata": {},
     "output_type": "execute_result"
    }
   ],
   "source": [
    "df_iphone.groupby('state').count()['quantity'].sort_values(ascending = False)\n",
    "#Overall, CA has the most even among 3 types of devices selling so it's California"
   ]
  },
  {
   "cell_type": "markdown",
   "metadata": {},
   "source": [
    "### Q5. What is the difference of revenue generated between weekend and weekday in the state of CA ? Hint { Weekday : Mon – Thu, Weekend : Fri – Sun}"
   ]
  },
  {
   "cell_type": "code",
   "execution_count": 85,
   "metadata": {},
   "outputs": [
    {
     "name": "stdout",
     "output_type": "stream",
     "text": [
      "2116605\n"
     ]
    }
   ],
   "source": [
    "df_CA = df[df['state'] == 'CA']\n",
    "df_CA_mon = df_CA[df_CA['day'] == 'Mon']\n",
    "df_CA_tue = df_CA[df_CA['day'] == 'Tue']\n",
    "df_CA_wed = df_CA[df_CA['day'] == 'Wed']\n",
    "df_CA_thu = df_CA[df_CA['day'] == 'Thu']\n",
    "df_CA_fri = df_CA[df_CA['day'] == 'Fri']\n",
    "df_CA_sat = df_CA[df_CA['day'] == 'Sat']\n",
    "df_CA_sun = df_CA[df_CA['day'] == 'Sun']\n",
    "monsum = df_CA_mon['total'].sum()\n",
    "tuesum = df_CA_tue['total'].sum()\n",
    "wedsum = df_CA_wed['total'].sum()\n",
    "thusum = df_CA_thu['total'].sum()\n",
    "frisum = df_CA_fri['total'].sum()\n",
    "satsum = df_CA_sat['total'].sum()\n",
    "sunsum = df_CA_sun['total'].sum()\n",
    "wd = monsum + tuesum + wedsum + thusum\n",
    "wk = frisum + satsum + sunsum\n",
    "diff = wd - wk\n",
    "print (int(diff))\n",
    "#There's $2,116,605 revenue difference generated between weekend and weekday "
   ]
  },
  {
   "cell_type": "markdown",
   "metadata": {},
   "source": [
    "### Q6. Which city has seen the overall least orders in night hours in the months of May, June and July 2019. Hint { Night Hours : 18 – 24 } \n"
   ]
  },
  {
   "cell_type": "code",
   "execution_count": 152,
   "metadata": {},
   "outputs": [
    {
     "name": "stderr",
     "output_type": "stream",
     "text": [
      "C:\\Users\\Khang\\anaconda3\\lib\\site-packages\\pandas\\core\\ops\\array_ops.py:253: FutureWarning: elementwise comparison failed; returning scalar instead, but in the future will perform elementwise comparison\n",
      "  res_values = method(rvalues)\n"
     ]
    },
    {
     "data": {
      "text/plain": [
       "Series([], Name: hour, dtype: int64)"
      ]
     },
     "execution_count": 152,
     "metadata": {},
     "output_type": "execute_result"
    }
   ],
   "source": [
    "\n",
    "df_may = df[df['month']== '5']\n",
    "df_may_18 = df_may[df_may['hour']== '18']\n",
    "df_may_19 = df_may[df_may['hour']== '19']\n",
    "df_may_20 = df_may[df_may['hour']== '20']\n",
    "df_may_21 = df_may[df_may['hour']== '21']\n",
    "df_may_22 = df_may[df_may['hour']== '22']\n",
    "df_may_23 = df_may[df_may['hour']== '23']\n",
    "df_may_24 = df_may[df_may['hour']== '24']\n",
    "\n",
    "df_june = df[df['month']== '6']\n",
    "df_june_18 = df_june[df_june['hour']== '18']\n",
    "df_june_19 = df_june[df_june['hour']== '19']\n",
    "df_june_20 = df_june[df_june['hour']== '20']\n",
    "df_june_21 = df_june[df_june['hour']== '21']\n",
    "df_june_22 = df_june[df_june['hour']== '22']\n",
    "df_june_23 = df_june[df_june['hour']== '23']\n",
    "df_june_24 = df_june[df_june['hour']== '24']\n",
    "\n",
    "df_july = df[df['month']== '7']\n",
    "df_july_18 = df_july[df_july['hour']== '18']\n",
    "df_july_19 = df_july[df_july['hour']== '19']\n",
    "df_july_20 = df_july[df_july['hour']== '20']\n",
    "df_july_21 = df_july[df_july['hour']== '21']\n",
    "df_july_22 = df_july[df_july['hour']== '22']\n",
    "df_july_23 = df_july[df_july['hour']== '23']\n",
    "df_july_24 = df_july[df_july['hour']== '24']\n"
   ]
  },
  {
   "cell_type": "code",
   "execution_count": null,
   "metadata": {},
   "outputs": [],
   "source": []
  },
  {
   "cell_type": "markdown",
   "metadata": {},
   "source": [
    "### Q7. Is “Google Phone” better performing in respect to overall number of orders placed as well as  revenue generated than “iphone” in “New York City” ?"
   ]
  },
  {
   "cell_type": "code",
   "execution_count": null,
   "metadata": {},
   "outputs": [],
   "source": []
  },
  {
   "cell_type": "markdown",
   "metadata": {},
   "source": [
    "### Q8. What is the absolute difference in total number of unique orders being created in the cities of “Boston” and “Portland” for the month of Jan in both years 2019 & 2020 ?\n"
   ]
  },
  {
   "cell_type": "code",
   "execution_count": null,
   "metadata": {},
   "outputs": [],
   "source": []
  },
  {
   "cell_type": "markdown",
   "metadata": {},
   "source": [
    "### Q9. Plot pie chart for 4 categories based on their total revenue generated.  Weekend-Day , Weekend-Night, Weekday-Day, Weekday-Night.  Hint {Weekend/Weekday , Day/Night logic remains as earlier discussed}\n"
   ]
  },
  {
   "cell_type": "code",
   "execution_count": null,
   "metadata": {},
   "outputs": [],
   "source": [
    "df_wd_\n",
    "colors = sns.color_palette('pastel')[0:5]\n",
    "\n",
    "plt.pie(data, labels = labels, colors = colors, autopct='%.0f%%')\n",
    "plt.show()"
   ]
  },
  {
   "cell_type": "markdown",
   "metadata": {},
   "source": [
    "### Q10. Plot violin plot between above respective 13 categories of unique year month combinations Month_Year ( 1_2019 , 2_2019 …. 1_2020) along side the number of orders being placed. Write down  the inferences according to the graph. (minimum 5)"
   ]
  },
  {
   "cell_type": "code",
   "execution_count": 122,
   "metadata": {},
   "outputs": [
    {
     "data": {
      "image/png": "[encoded data removed]",
      "text/plain": [
       "<Figure size 648x216 with 2 Axes>"
      ]
     },
     "metadata": {
      "needs_background": "light"
     },
     "output_type": "display_data"
    }
   ],
   "source": [
    "\n",
    "len(orders_id)(month)(year)\n",
    "sns.catplot(x=\"month\", y=\"quantity\", col=\"year\", data=df, kind=\"violin\", split=False, height=3, aspect=1.5);\n",
    "#Obs 1: No observation are made here due to can't convert the groupby into plot\n",
    "#Obs 2: \n",
    "#Obs 3:\n",
    "#Obs 4:\n",
    "#Obs 5:"
   ]
  },
  {
   "cell_type": "code",
   "execution_count": 145,
   "metadata": {},
   "outputs": [
    {
     "data": {
      "text/plain": [
       "month\n",
       "12    24984\n",
       "10    20282\n",
       "4     18279\n",
       "11    17573\n",
       "5     16566\n",
       "3     15153\n",
       "7     14293\n",
       "6     13554\n",
       "2     11975\n",
       "8     11961\n",
       "9     11621\n",
       "1      9675\n",
       "Name: order_count, dtype: int64"
      ]
     },
     "execution_count": 145,
     "metadata": {},
     "output_type": "execute_result"
    }
   ],
   "source": [
    "df_2019 = df[df['year'] == 2019]\n",
    "\n",
    "df_2019.groupby('month').count()['order_count'].sort_values(ascending = False)\n",
    "#can't convert the groupby into plot"
   ]
  },
  {
   "cell_type": "code",
   "execution_count": 143,
   "metadata": {},
   "outputs": [
    {
     "data": {
      "text/plain": [
       "month\n",
       "1    34\n",
       "Name: order_count, dtype: int64"
      ]
     },
     "execution_count": 143,
     "metadata": {},
     "output_type": "execute_result"
    }
   ],
   "source": [
    "df_2020 = df[df['year'] == 2020]\n",
    "df_2020.groupby('month').count()['order_count'].sort_values(ascending = False)"
   ]
  },
  {
   "cell_type": "code",
   "execution_count": 124,
   "metadata": {},
   "outputs": [
    {
     "ename": "ValueError",
     "evalue": "Could not interpret input 'id'",
     "output_type": "error",
     "traceback": [
      "\u001b[1;31m---------------------------------------------------------------------------\u001b[0m",
      "\u001b[1;31mValueError\u001b[0m                                Traceback (most recent call last)",
      "\u001b[1;32m<ipython-input-124-5b856e6304a6>\u001b[0m in \u001b[0;36m<module>\u001b[1;34m\u001b[0m\n\u001b[1;32m----> 1\u001b[1;33m \u001b[0msns\u001b[0m\u001b[1;33m.\u001b[0m\u001b[0mcatplot\u001b[0m\u001b[1;33m(\u001b[0m\u001b[0mx\u001b[0m\u001b[1;33m=\u001b[0m\u001b[1;34m\"month\"\u001b[0m\u001b[1;33m,\u001b[0m \u001b[0my\u001b[0m\u001b[1;33m=\u001b[0m\u001b[1;34m\"id\"\u001b[0m\u001b[1;33m,\u001b[0m \u001b[0mcol\u001b[0m\u001b[1;33m=\u001b[0m\u001b[1;34m\"year\"\u001b[0m\u001b[1;33m,\u001b[0m \u001b[0mdata\u001b[0m\u001b[1;33m=\u001b[0m\u001b[0mdf\u001b[0m\u001b[1;33m,\u001b[0m \u001b[0mkind\u001b[0m\u001b[1;33m=\u001b[0m\u001b[1;34m\"violin\"\u001b[0m\u001b[1;33m,\u001b[0m \u001b[0msplit\u001b[0m\u001b[1;33m=\u001b[0m\u001b[1;32mFalse\u001b[0m\u001b[1;33m,\u001b[0m \u001b[0mheight\u001b[0m\u001b[1;33m=\u001b[0m\u001b[1;36m3\u001b[0m\u001b[1;33m,\u001b[0m \u001b[0maspect\u001b[0m\u001b[1;33m=\u001b[0m\u001b[1;36m1.5\u001b[0m\u001b[1;33m)\u001b[0m\u001b[1;33m;\u001b[0m\u001b[1;33m\u001b[0m\u001b[1;33m\u001b[0m\u001b[0m\n\u001b[0m\u001b[0;32m      2\u001b[0m \u001b[1;31m#Obs 1:There's a spike increase in the number of\u001b[0m\u001b[1;33m\u001b[0m\u001b[1;33m\u001b[0m\u001b[1;33m\u001b[0m\u001b[0m\n\u001b[0;32m      3\u001b[0m \u001b[1;31m#Obs 2:\u001b[0m\u001b[1;33m\u001b[0m\u001b[1;33m\u001b[0m\u001b[1;33m\u001b[0m\u001b[0m\n\u001b[0;32m      4\u001b[0m \u001b[1;31m#Obs 3:\u001b[0m\u001b[1;33m\u001b[0m\u001b[1;33m\u001b[0m\u001b[1;33m\u001b[0m\u001b[0m\n\u001b[0;32m      5\u001b[0m \u001b[1;31m#Obs 4:\u001b[0m\u001b[1;33m\u001b[0m\u001b[1;33m\u001b[0m\u001b[1;33m\u001b[0m\u001b[0m\n",
      "\u001b[1;32m~\\anaconda3\\lib\\site-packages\\seaborn\\categorical.py\u001b[0m in \u001b[0;36mcatplot\u001b[1;34m(x, y, hue, data, row, col, col_wrap, estimator, ci, n_boot, units, seed, order, hue_order, row_order, col_order, kind, height, aspect, orient, color, palette, legend, legend_out, sharex, sharey, margin_titles, facet_kws, **kwargs)\u001b[0m\n\u001b[0;32m   3721\u001b[0m     \u001b[1;31m# facets to ensure representation of all data in the final plot\u001b[0m\u001b[1;33m\u001b[0m\u001b[1;33m\u001b[0m\u001b[1;33m\u001b[0m\u001b[0m\n\u001b[0;32m   3722\u001b[0m     \u001b[0mp\u001b[0m \u001b[1;33m=\u001b[0m \u001b[0m_CategoricalPlotter\u001b[0m\u001b[1;33m(\u001b[0m\u001b[1;33m)\u001b[0m\u001b[1;33m\u001b[0m\u001b[1;33m\u001b[0m\u001b[0m\n\u001b[1;32m-> 3723\u001b[1;33m     \u001b[0mp\u001b[0m\u001b[1;33m.\u001b[0m\u001b[0mestablish_variables\u001b[0m\u001b[1;33m(\u001b[0m\u001b[0mx_\u001b[0m\u001b[1;33m,\u001b[0m \u001b[0my_\u001b[0m\u001b[1;33m,\u001b[0m \u001b[0mhue\u001b[0m\u001b[1;33m,\u001b[0m \u001b[0mdata\u001b[0m\u001b[1;33m,\u001b[0m \u001b[0morient\u001b[0m\u001b[1;33m,\u001b[0m \u001b[0morder\u001b[0m\u001b[1;33m,\u001b[0m \u001b[0mhue_order\u001b[0m\u001b[1;33m)\u001b[0m\u001b[1;33m\u001b[0m\u001b[1;33m\u001b[0m\u001b[0m\n\u001b[0m\u001b[0;32m   3724\u001b[0m     \u001b[0morder\u001b[0m \u001b[1;33m=\u001b[0m \u001b[0mp\u001b[0m\u001b[1;33m.\u001b[0m\u001b[0mgroup_names\u001b[0m\u001b[1;33m\u001b[0m\u001b[1;33m\u001b[0m\u001b[0m\n\u001b[0;32m   3725\u001b[0m     \u001b[0mhue_order\u001b[0m \u001b[1;33m=\u001b[0m \u001b[0mp\u001b[0m\u001b[1;33m.\u001b[0m\u001b[0mhue_names\u001b[0m\u001b[1;33m\u001b[0m\u001b[1;33m\u001b[0m\u001b[0m\n",
      "\u001b[1;32m~\\anaconda3\\lib\\site-packages\\seaborn\\categorical.py\u001b[0m in \u001b[0;36mestablish_variables\u001b[1;34m(self, x, y, hue, data, orient, order, hue_order, units)\u001b[0m\n\u001b[0;32m    150\u001b[0m                 \u001b[1;32mif\u001b[0m \u001b[0misinstance\u001b[0m\u001b[1;33m(\u001b[0m\u001b[0mvar\u001b[0m\u001b[1;33m,\u001b[0m \u001b[0mstr\u001b[0m\u001b[1;33m)\u001b[0m\u001b[1;33m:\u001b[0m\u001b[1;33m\u001b[0m\u001b[1;33m\u001b[0m\u001b[0m\n\u001b[0;32m    151\u001b[0m                     \u001b[0merr\u001b[0m \u001b[1;33m=\u001b[0m \u001b[1;34m\"Could not interpret input '{}'\"\u001b[0m\u001b[1;33m.\u001b[0m\u001b[0mformat\u001b[0m\u001b[1;33m(\u001b[0m\u001b[0mvar\u001b[0m\u001b[1;33m)\u001b[0m\u001b[1;33m\u001b[0m\u001b[1;33m\u001b[0m\u001b[0m\n\u001b[1;32m--> 152\u001b[1;33m                     \u001b[1;32mraise\u001b[0m \u001b[0mValueError\u001b[0m\u001b[1;33m(\u001b[0m\u001b[0merr\u001b[0m\u001b[1;33m)\u001b[0m\u001b[1;33m\u001b[0m\u001b[1;33m\u001b[0m\u001b[0m\n\u001b[0m\u001b[0;32m    153\u001b[0m \u001b[1;33m\u001b[0m\u001b[0m\n\u001b[0;32m    154\u001b[0m             \u001b[1;31m# Figure out the plotting orientation\u001b[0m\u001b[1;33m\u001b[0m\u001b[1;33m\u001b[0m\u001b[1;33m\u001b[0m\u001b[0m\n",
      "\u001b[1;31mValueError\u001b[0m: Could not interpret input 'id'"
     ]
    }
   ],
   "source": [
    "sns.catplot(x=\"month\", y=\"id\", col=\"year\", data=df, kind=\"violin\", split=False, height=3, aspect=1.5);\n",
    "#Obs 1: There's a spike increase in the number of orders throughout 2019\n",
    "#Obs 2: 2020 has the least amount of orders\n",
    "#Obs 3: highest peak near the end of 2019 (Oct, Nov, Dec)\n",
    "#Obs 4: second highest peak is near mid-2019 (Apr, May) before fall down and rise over time again\n",
    "#Obs 5:"
   ]
  }
 ],
 "metadata": {
  "kernelspec": {
   "display_name": "Python 3",
   "language": "python",
   "name": "python3"
  },
  "language_info": {
   "codemirror_mode": {
    "name": "ipython",
    "version": 3
   },
   "file_extension": ".py",
   "mimetype": "text/x-python",
   "name": "python",
   "nbconvert_exporter": "python",
   "pygments_lexer": "ipython3",
   "version": "3.8.3"
  }
 },
 "nbformat": 4,
 "nbformat_minor": 4
}
